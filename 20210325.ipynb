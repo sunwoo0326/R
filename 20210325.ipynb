{
 "cells": [
  {
   "cell_type": "code",
   "execution_count": 1,
   "id": "color-disease",
   "metadata": {},
   "outputs": [
    {
     "name": "stderr",
     "output_type": "stream",
     "text": [
      "Warning message:\n",
      "\"package 'readxl' was built under R version 3.6.3\"\n",
      "Attaching package: 'dplyr'\n",
      "\n",
      "The following objects are masked from 'package:stats':\n",
      "\n",
      "    filter, lag\n",
      "\n",
      "The following objects are masked from 'package:base':\n",
      "\n",
      "    intersect, setdiff, setequal, union\n",
      "\n"
     ]
    }
   ],
   "source": [
    "library(readxl)\n",
    "library(dplyr)\n",
    "\n",
    "customer_r <- read_excel(\"customer_r.xlsx\")\n",
    "reservation_r <- read_excel(\"reservation_r.xlsx\")\n",
    "order_info_r <- read_excel(\"order_info_r.xlsx\")\n",
    "item_r <- read_excel(\"item_r.xlsx\")\n",
    "colnames(customer_r) <- tolower(colnames(customer_r))\n",
    "colnames(reservation_r) <- tolower(colnames(reservation_r))\n",
    "colnames(order_info_r) <- tolower(colnames(order_info_r))\n",
    "colnames(item_r) <- tolower(colnames(item_r))"
   ]
  },
  {
   "cell_type": "code",
   "execution_count": 6,
   "id": "specialized-example",
   "metadata": {},
   "outputs": [],
   "source": [
    "df_f_join_1  <- inner_join(reservation_r, order_info_r, by= \"reserv_no\")\n",
    "df_f_join_2  <- inner_join(df_f_join_1, item_r,by=\"item_id\")"
   ]
  },
  {
   "cell_type": "code",
   "execution_count": 12,
   "id": "meaning-drama",
   "metadata": {},
   "outputs": [
    {
     "ename": "ERROR",
     "evalue": "Error in ggplot(df_branch_items_percent, aes(x = Var1, y = percent_items, : 함수 \"ggplot\"를 찾을 수 없습니다\n",
     "output_type": "error",
     "traceback": [
      "Error in ggplot(df_branch_items_percent, aes(x = Var1, y = percent_items, : 함수 \"ggplot\"를 찾을 수 없습니다\nTraceback:\n"
     ]
    }
   ],
   "source": [
    "gg <- ggplot(df_branch_items_percent, aes(x=Var1,y=percent_items,group=Var1,fill=Var2))+geom_bar(stat=\"identity\")"
   ]
  },
  {
   "cell_type": "code",
   "execution_count": 8,
   "id": "detected-recipient",
   "metadata": {},
   "outputs": [
    {
     "ename": "ERROR",
     "evalue": "Error in parse(text = x, srcfile = src): <text>:1:11: 예상하지 못한 기호(symbol)입니다.\n1:    Var1   Var2\n              ^\n",
     "output_type": "error",
     "traceback": [
      "Error in parse(text = x, srcfile = src): <text>:1:11: 예상하지 못한 기호(symbol)입니다.\n1:    Var1   Var2\n              ^\nTraceback:\n"
     ]
    }
   ],
   "source": [
    "Var1  Var2   Freq  `df_branch_items_table$Var1`  percent_items"
   ]
  },
  {
   "cell_type": "code",
   "execution_count": 5,
   "id": "owned-hygiene",
   "metadata": {},
   "outputs": [
    {
     "ename": "ERROR",
     "evalue": "Error in parse(text = x, srcfile = src): <text>:2:69: 예기치 않은 INCOMPLETE_STRING입니다\n1: df_branch_items  <- df_f_join_2 %>%\n2:                     filter(branch == \"강남\" | branch ==\"마포\"|branch\"서초)\n                                                                       ^\n",
     "output_type": "error",
     "traceback": [
      "Error in parse(text = x, srcfile = src): <text>:2:69: 예기치 않은 INCOMPLETE_STRING입니다\n1: df_branch_items  <- df_f_join_2 %>%\n2:                     filter(branch == \"강남\" | branch ==\"마포\"|branch\"서초)\n                                                                       ^\nTraceback:\n"
     ]
    }
   ],
   "source": [
    "df_branch_items  <- df_f_join_2 %>%\n",
    "                    filter(branch == \"강남\" | branch ==\"마포\"|branch\"서초)"
   ]
  },
  {
   "cell_type": "code",
   "execution_count": 13,
   "id": "fancy-evolution",
   "metadata": {},
   "outputs": [
    {
     "ename": "ERROR",
     "evalue": "Error in ggplot(df_rfm_data, aes(x = \"\", y = visit_sum)): 함수 \"ggplot\"를 찾을 수 없습니다\n",
     "output_type": "error",
     "traceback": [
      "Error in ggplot(df_rfm_data, aes(x = \"\", y = visit_sum)): 함수 \"ggplot\"를 찾을 수 없습니다\nTraceback:\n"
     ]
    }
   ],
   "source": [
    "ggplot(df_rfm_data, aes(x=\"\",y=visit_sum))+\n",
    "    geom_boxplot(width=0.8,outlier.size=2,oulier.colour=\"red\")+\n",
    "    labs(title=\"방문 횟수 상자그림\",x=\"빈도\",y=\"방문횟수\")"
   ]
  },
  {
   "cell_type": "code",
   "execution_count": 14,
   "id": "rough-statement",
   "metadata": {},
   "outputs": [
    {
     "ename": "ERROR",
     "evalue": "Error in summary(df_rfm_data): 객체 'df_rfm_data'를 찾을 수 없습니다\n",
     "output_type": "error",
     "traceback": [
      "Error in summary(df_rfm_data): 객체 'df_rfm_data'를 찾을 수 없습니다\nTraceback:\n",
      "1. summary(df_rfm_data)"
     ]
    }
   ],
   "source": [
    "summary(df_rfm_data)"
   ]
  },
  {
   "cell_type": "code",
   "execution_count": 15,
   "id": "floppy-bloom",
   "metadata": {},
   "outputs": [
    {
     "ename": "ERROR",
     "evalue": "Error in quantile(df_rfm_data$visit_sum, probs = c(0.6, 0.9)): 객체 'df_rfm_data'를 찾을 수 없습니다\n",
     "output_type": "error",
     "traceback": [
      "Error in quantile(df_rfm_data$visit_sum, probs = c(0.6, 0.9)): 객체 'df_rfm_data'를 찾을 수 없습니다\nTraceback:\n",
      "1. quantile(df_rfm_data$visit_sum, probs = c(0.6, 0.9))"
     ]
    }
   ],
   "source": [
    "quantile(df_rfm_data$visit_sum,probs=c(0.6,0.9))"
   ]
  },
  {
   "cell_type": "code",
   "execution_count": null,
   "id": "plastic-tomato",
   "metadata": {},
   "outputs": [],
   "source": []
  }
 ],
 "metadata": {
  "kernelspec": {
   "display_name": "R",
   "language": "R",
   "name": "ir"
  },
  "language_info": {
   "codemirror_mode": "r",
   "file_extension": ".r",
   "mimetype": "text/x-r-source",
   "name": "R",
   "pygments_lexer": "r",
   "version": "3.6.1"
  }
 },
 "nbformat": 4,
 "nbformat_minor": 5
}
