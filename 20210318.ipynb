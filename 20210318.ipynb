{
 "cells": [
  {
   "cell_type": "code",
   "execution_count": 1,
   "id": "familiar-spyware",
   "metadata": {},
   "outputs": [
    {
     "name": "stderr",
     "output_type": "stream",
     "text": [
      "Warning message:\n",
      "\"package 'readxl' was built under R version 3.6.3\"\n",
      "Attaching package: 'dplyr'\n",
      "\n",
      "The following objects are masked from 'package:stats':\n",
      "\n",
      "    filter, lag\n",
      "\n",
      "The following objects are masked from 'package:base':\n",
      "\n",
      "    intersect, setdiff, setequal, union\n",
      "\n"
     ]
    }
   ],
   "source": [
    "library(readxl)\n",
    "library(dplyr)\n",
    "\n",
    "customer_r <- read_excel(\"customer_r.xlsx\")\n",
    "reservation_r <- read_excel(\"reservation_r.xlsx\")\n",
    "order_info_r <- read_excel(\"order_info_r.xlsx\")\n",
    "item_r <- read_excel(\"item_r.xlsx\")\n",
    "colnames(customer_r) <- tolower(colnames(customer_r))\n",
    "colnames(reservation_r) <- tolower(colnames(reservation_r))\n",
    "colnames(order_info_r) <- tolower(colnames(order_info_r))\n",
    "colnames(item_r) <- tolower(colnames(item_r))\n"
   ]
  },
  {
   "cell_type": "code",
   "execution_count": 2,
   "id": "necessary-chair",
   "metadata": {},
   "outputs": [
    {
     "ename": "ERROR",
     "evalue": "Error in eval(expr, envir, enclos): 객체 'totlal_amt'를 찾을 수 없습니다\n",
     "output_type": "error",
     "traceback": [
      "Error in eval(expr, envir, enclos): 객체 'totlal_amt'를 찾을 수 없습니다\nTraceback:\n"
     ]
    }
   ],
   "source": [
    "total_amt <- order_info_r %>%\n",
    "            group_by(reserv_no) %>%\n",
    "            summarise(amt_daily=sum(sales/1000))%>%\n",
    "            arrange(reserv_no)\n",
    "\n",
    "totlal_amt"
   ]
  },
  {
   "cell_type": "code",
   "execution_count": 3,
   "id": "fluid-american",
   "metadata": {},
   "outputs": [
    {
     "data": {
      "text/html": [
       "<table>\n",
       "<thead><tr><th scope=col>order_no</th><th scope=col>item_id</th><th scope=col>reserv_no</th><th scope=col>quantity</th><th scope=col>sales</th></tr></thead>\n",
       "<tbody>\n",
       "\t<tr><td>191228137840110010</td><td>M0003             </td><td>2019122805        </td><td> 1                </td><td> 17000            </td></tr>\n",
       "\t<tr><td>191228137837810010</td><td>M0001             </td><td>2019122806        </td><td>10                </td><td>240000            </td></tr>\n",
       "\t<tr><td>191228547385810010</td><td>M0003             </td><td>2019122807        </td><td> 2                </td><td> 34000            </td></tr>\n",
       "\t<tr><td>191228567831310010</td><td>M0008             </td><td>2019122808        </td><td> 1                </td><td> 10000            </td></tr>\n",
       "\t<tr><td>191228567430310010</td><td>M0005             </td><td>2019122809        </td><td> 4                </td><td>140000            </td></tr>\n",
       "\t<tr><td>191228137860010010</td><td>M0005             </td><td>2019122810        </td><td> 2                </td><td> 70000            </td></tr>\n",
       "</tbody>\n",
       "</table>\n"
      ],
      "text/latex": [
       "\\begin{tabular}{r|lllll}\n",
       " order\\_no & item\\_id & reserv\\_no & quantity & sales\\\\\n",
       "\\hline\n",
       "\t 191228137840110010 & M0003              & 2019122805         &  1                 &  17000            \\\\\n",
       "\t 191228137837810010 & M0001              & 2019122806         & 10                 & 240000            \\\\\n",
       "\t 191228547385810010 & M0003              & 2019122807         &  2                 &  34000            \\\\\n",
       "\t 191228567831310010 & M0008              & 2019122808         &  1                 &  10000            \\\\\n",
       "\t 191228567430310010 & M0005              & 2019122809         &  4                 & 140000            \\\\\n",
       "\t 191228137860010010 & M0005              & 2019122810         &  2                 &  70000            \\\\\n",
       "\\end{tabular}\n"
      ],
      "text/markdown": [
       "\n",
       "| order_no | item_id | reserv_no | quantity | sales |\n",
       "|---|---|---|---|---|\n",
       "| 191228137840110010 | M0003              | 2019122805         |  1                 |  17000             |\n",
       "| 191228137837810010 | M0001              | 2019122806         | 10                 | 240000             |\n",
       "| 191228547385810010 | M0003              | 2019122807         |  2                 |  34000             |\n",
       "| 191228567831310010 | M0008              | 2019122808         |  1                 |  10000             |\n",
       "| 191228567430310010 | M0005              | 2019122809         |  4                 | 140000             |\n",
       "| 191228137860010010 | M0005              | 2019122810         |  2                 |  70000             |\n",
       "\n"
      ],
      "text/plain": [
       "  order_no           item_id reserv_no  quantity sales \n",
       "1 191228137840110010 M0003   2019122805  1        17000\n",
       "2 191228137837810010 M0001   2019122806 10       240000\n",
       "3 191228547385810010 M0003   2019122807  2        34000\n",
       "4 191228567831310010 M0008   2019122808  1        10000\n",
       "5 191228567430310010 M0005   2019122809  4       140000\n",
       "6 191228137860010010 M0005   2019122810  2        70000"
      ]
     },
     "metadata": {},
     "output_type": "display_data"
    }
   ],
   "source": [
    "head(order_info_r)"
   ]
  },
  {
   "cell_type": "code",
   "execution_count": 5,
   "id": "accessible-transparency",
   "metadata": {},
   "outputs": [
    {
     "name": "stderr",
     "output_type": "stream",
     "text": [
      "Warning message:\n",
      "\"package 'ggplot2' was built under R version 3.6.3\""
     ]
    },
    {
     "data": {
      "image/png": "[encoded data removed]",
      "text/plain": [
       "plot without title"
      ]
     },
     "metadata": {},
     "output_type": "display_data"
    }
   ],
   "source": [
    "library(\"ggplot2\")\n",
    "ggplot(total_amt, aes(x = reserv_no, y=amt_daily,group=1))+geom_line()"
   ]
  },
  {
   "cell_type": "code",
   "execution_count": 10,
   "id": "annoying-sally",
   "metadata": {},
   "outputs": [
    {
     "data": {
      "text/html": [
       "<table>\n",
       "<thead><tr><th scope=col>order_no</th><th scope=col>item_id</th><th scope=col>reserv_no</th><th scope=col>quantity</th><th scope=col>sales</th><th scope=col>month</th></tr></thead>\n",
       "<tbody>\n",
       "\t<tr><td>191228137840110010</td><td>M0003             </td><td>2019122805        </td><td> 1                </td><td> 17000            </td><td>201912            </td></tr>\n",
       "\t<tr><td>191228137837810010</td><td>M0001             </td><td>2019122806        </td><td>10                </td><td>240000            </td><td>201912            </td></tr>\n",
       "\t<tr><td>191228547385810010</td><td>M0003             </td><td>2019122807        </td><td> 2                </td><td> 34000            </td><td>201912            </td></tr>\n",
       "\t<tr><td>191228567831310010</td><td>M0008             </td><td>2019122808        </td><td> 1                </td><td> 10000            </td><td>201912            </td></tr>\n",
       "\t<tr><td>191228567430310010</td><td>M0005             </td><td>2019122809        </td><td> 4                </td><td>140000            </td><td>201912            </td></tr>\n",
       "\t<tr><td>191228137860010010</td><td>M0005             </td><td>2019122810        </td><td> 2                </td><td> 70000            </td><td>201912            </td></tr>\n",
       "\t<tr><td>191228137860010010</td><td>M0009             </td><td>2019122810        </td><td> 2                </td><td> 16000            </td><td>201912            </td></tr>\n",
       "\t<tr><td>191229107864610010</td><td>M0005             </td><td>2019122901        </td><td> 4                </td><td>140000            </td><td>201912            </td></tr>\n",
       "\t<tr><td>191229107864610010</td><td>M0009             </td><td>2019122901        </td><td> 4                </td><td> 32000            </td><td>201912            </td></tr>\n",
       "\t<tr><td>191229137425710010</td><td>M0003             </td><td>2019122902        </td><td> 2                </td><td> 34000            </td><td>201912            </td></tr>\n",
       "\t<tr><td>191230137860610010</td><td>M0003             </td><td>2019123002        </td><td> 3                </td><td> 51000            </td><td>201912            </td></tr>\n",
       "\t<tr><td>191230137865010010</td><td>M0001             </td><td>2019123003        </td><td> 8                </td><td>192000            </td><td>201912            </td></tr>\n",
       "\t<tr><td>191230137847710020</td><td>M0005             </td><td>2019123005        </td><td> 2                </td><td> 70000            </td><td>201912            </td></tr>\n",
       "\t<tr><td>191230187379710010</td><td>M0005             </td><td>2019123006        </td><td> 1                </td><td> 35000            </td><td>201912            </td></tr>\n",
       "\t<tr><td>191230187379710010</td><td>M0009             </td><td>2019123006        </td><td> 1                </td><td>  8000            </td><td>201912            </td></tr>\n",
       "\t<tr><td>191231137450910010</td><td>M0005             </td><td>2019123101        </td><td> 4                </td><td>140000            </td><td>201912            </td></tr>\n",
       "\t<tr><td>191231567834710010</td><td>M0006             </td><td>2019123102        </td><td> 4                </td><td>100000            </td><td>201912            </td></tr>\n",
       "\t<tr><td>191231107865610010</td><td>M0008             </td><td>2019123104        </td><td> 3                </td><td> 30000            </td><td>201912            </td></tr>\n",
       "\t<tr><td>191231137864710010</td><td>M0001             </td><td>2019123105        </td><td> 8                </td><td>192000            </td><td>201912            </td></tr>\n",
       "\t<tr><td>191231137864110010</td><td>M0005             </td><td>2019123106        </td><td> 6                </td><td>210000            </td><td>201912            </td></tr>\n",
       "\t<tr><td>191231607864610010</td><td>M0005             </td><td>2019123107        </td><td> 4                </td><td>140000            </td><td>201912            </td></tr>\n",
       "\t<tr><td>191231607864610010</td><td>M0009             </td><td>2019123107        </td><td> 4                </td><td> 32000            </td><td>201912            </td></tr>\n",
       "\t<tr><td>191216678376100100</td><td>M0005             </td><td>2019121603        </td><td> 6                </td><td>210000            </td><td>201912            </td></tr>\n",
       "\t<tr><td>191216678533100100</td><td>M0005             </td><td>2019121604        </td><td> 4                </td><td>140000            </td><td>201912            </td></tr>\n",
       "\t<tr><td>191216107839010010</td><td>M0001             </td><td>2019121605        </td><td> 3                </td><td> 72000            </td><td>201912            </td></tr>\n",
       "\t<tr><td>191216107298910010</td><td>M0001             </td><td>2019121606        </td><td> 2                </td><td> 48000            </td><td>201912            </td></tr>\n",
       "\t<tr><td>191217378488100100</td><td>M0003             </td><td>2019121701        </td><td> 1                </td><td> 17000            </td><td>201912            </td></tr>\n",
       "\t<tr><td>191217378513100100</td><td>M0007             </td><td>2019121702        </td><td> 2                </td><td> 30000            </td><td>201912            </td></tr>\n",
       "\t<tr><td>191217137851110010</td><td>M0001             </td><td>2019121704        </td><td> 9                </td><td>216000            </td><td>201912            </td></tr>\n",
       "\t<tr><td>191217578481100100</td><td>M0005             </td><td>2019121705        </td><td> 3                </td><td>105000            </td><td>201912            </td></tr>\n",
       "\t<tr><td>...</td><td>...</td><td>...</td><td>...</td><td>...</td><td>...</td></tr>\n",
       "\t<tr><td>191208137385810010</td><td>M0006             </td><td>2019120803        </td><td>1                 </td><td> 25000            </td><td>201912            </td></tr>\n",
       "\t<tr><td>191208578401100100</td><td>M0008             </td><td>2019120806        </td><td>1                 </td><td> 10000            </td><td>201912            </td></tr>\n",
       "\t<tr><td>191209674238100100</td><td>M0001             </td><td>2019120901        </td><td>9                 </td><td>216000            </td><td>201912            </td></tr>\n",
       "\t<tr><td>191210137850310010</td><td>M0002             </td><td>2019121001        </td><td>3                 </td><td> 36000            </td><td>201912            </td></tr>\n",
       "\t<tr><td>191210578543100100</td><td>M0005             </td><td>2019121002        </td><td>2                 </td><td> 70000            </td><td>201912            </td></tr>\n",
       "\t<tr><td>191210578596100100</td><td>M0002             </td><td>2019121003        </td><td>1                 </td><td> 12000            </td><td>201912            </td></tr>\n",
       "\t<tr><td>191210517425810010</td><td>M0005             </td><td>2019121004        </td><td>2                 </td><td> 70000            </td><td>201912            </td></tr>\n",
       "\t<tr><td>191210517434110010</td><td>M0008             </td><td>2019121005        </td><td>2                 </td><td> 20000            </td><td>201912            </td></tr>\n",
       "\t<tr><td>191210107298910010</td><td>M0002             </td><td>2019121006        </td><td>2                 </td><td> 24000            </td><td>201912            </td></tr>\n",
       "\t<tr><td>191210517412210010</td><td>M0005             </td><td>2019121007        </td><td>4                 </td><td>140000            </td><td>201912            </td></tr>\n",
       "\t<tr><td>191211371966100100</td><td>M0001             </td><td>2019121101        </td><td>2                 </td><td> 48000            </td><td>201912            </td></tr>\n",
       "\t<tr><td>191211137436110010</td><td>M0002             </td><td>2019121102        </td><td>2                 </td><td> 24000            </td><td>201912            </td></tr>\n",
       "\t<tr><td>191212547862510010</td><td>M0001             </td><td>2019121202        </td><td>4                 </td><td> 96000            </td><td>201912            </td></tr>\n",
       "\t<tr><td>191212607833610010</td><td>M0005             </td><td>2019121203        </td><td>4                 </td><td>140000            </td><td>201912            </td></tr>\n",
       "\t<tr><td>191212107393010010</td><td>M0004             </td><td>2019121204        </td><td>2                 </td><td> 50000            </td><td>201912            </td></tr>\n",
       "\t<tr><td>191213378539100100</td><td>M0005             </td><td>2019121301        </td><td>2                 </td><td> 70000            </td><td>201912            </td></tr>\n",
       "\t<tr><td>191213547302810010</td><td>M0002             </td><td>2019121302        </td><td>4                 </td><td> 48000            </td><td>201912            </td></tr>\n",
       "\t<tr><td>191213547404510010</td><td>M0005             </td><td>2019121303        </td><td>1                 </td><td> 35000            </td><td>201912            </td></tr>\n",
       "\t<tr><td>191213181000524010</td><td>M0008             </td><td>2019121304        </td><td>1                 </td><td> 10000            </td><td>201912            </td></tr>\n",
       "\t<tr><td>191214107853910010</td><td>M0006             </td><td>2019121401        </td><td>2                 </td><td> 50000            </td><td>201912            </td></tr>\n",
       "\t<tr><td>191214673780100100</td><td>M0005             </td><td>2019121402        </td><td>2                 </td><td> 70000            </td><td>201912            </td></tr>\n",
       "\t<tr><td>191214517862910010</td><td>M0005             </td><td>2019121403        </td><td>2                 </td><td> 70000            </td><td>201912            </td></tr>\n",
       "\t<tr><td>191214607846210010</td><td>M0006             </td><td>2019121404        </td><td>3                 </td><td> 75000            </td><td>201912            </td></tr>\n",
       "\t<tr><td>191214607864310010</td><td>M0002             </td><td>2019121405        </td><td>3                 </td><td> 36000            </td><td>201912            </td></tr>\n",
       "\t<tr><td>191215137850410010</td><td>M0003             </td><td>2019121501        </td><td>2                 </td><td> 34000            </td><td>201912            </td></tr>\n",
       "\t<tr><td>191215547862510010</td><td>M0002             </td><td>2019121502        </td><td>3                 </td><td> 36000            </td><td>201912            </td></tr>\n",
       "\t<tr><td>191215547862510010</td><td>M0009             </td><td>2019121502        </td><td>3                 </td><td> 24000            </td><td>201912            </td></tr>\n",
       "\t<tr><td>191215137422210010</td><td>M0008             </td><td>2019121503        </td><td>1                 </td><td> 10000            </td><td>201912            </td></tr>\n",
       "\t<tr><td>191215181000524010</td><td>M0001             </td><td>2019121504        </td><td>1                 </td><td> 24000            </td><td>201912            </td></tr>\n",
       "\t<tr><td>191216137421910010</td><td>M0007             </td><td>2019121602        </td><td>4                 </td><td> 60000            </td><td>201912            </td></tr>\n",
       "</tbody>\n",
       "</table>\n"
      ],
      "text/latex": [
       "\\begin{tabular}{r|llllll}\n",
       " order\\_no & item\\_id & reserv\\_no & quantity & sales & month\\\\\n",
       "\\hline\n",
       "\t 191228137840110010 & M0003              & 2019122805         &  1                 &  17000             & 201912            \\\\\n",
       "\t 191228137837810010 & M0001              & 2019122806         & 10                 & 240000             & 201912            \\\\\n",
       "\t 191228547385810010 & M0003              & 2019122807         &  2                 &  34000             & 201912            \\\\\n",
       "\t 191228567831310010 & M0008              & 2019122808         &  1                 &  10000             & 201912            \\\\\n",
       "\t 191228567430310010 & M0005              & 2019122809         &  4                 & 140000             & 201912            \\\\\n",
       "\t 191228137860010010 & M0005              & 2019122810         &  2                 &  70000             & 201912            \\\\\n",
       "\t 191228137860010010 & M0009              & 2019122810         &  2                 &  16000             & 201912            \\\\\n",
       "\t 191229107864610010 & M0005              & 2019122901         &  4                 & 140000             & 201912            \\\\\n",
       "\t 191229107864610010 & M0009              & 2019122901         &  4                 &  32000             & 201912            \\\\\n",
       "\t 191229137425710010 & M0003              & 2019122902         &  2                 &  34000             & 201912            \\\\\n",
       "\t 191230137860610010 & M0003              & 2019123002         &  3                 &  51000             & 201912            \\\\\n",
       "\t 191230137865010010 & M0001              & 2019123003         &  8                 & 192000             & 201912            \\\\\n",
       "\t 191230137847710020 & M0005              & 2019123005         &  2                 &  70000             & 201912            \\\\\n",
       "\t 191230187379710010 & M0005              & 2019123006         &  1                 &  35000             & 201912            \\\\\n",
       "\t 191230187379710010 & M0009              & 2019123006         &  1                 &   8000             & 201912            \\\\\n",
       "\t 191231137450910010 & M0005              & 2019123101         &  4                 & 140000             & 201912            \\\\\n",
       "\t 191231567834710010 & M0006              & 2019123102         &  4                 & 100000             & 201912            \\\\\n",
       "\t 191231107865610010 & M0008              & 2019123104         &  3                 &  30000             & 201912            \\\\\n",
       "\t 191231137864710010 & M0001              & 2019123105         &  8                 & 192000             & 201912            \\\\\n",
       "\t 191231137864110010 & M0005              & 2019123106         &  6                 & 210000             & 201912            \\\\\n",
       "\t 191231607864610010 & M0005              & 2019123107         &  4                 & 140000             & 201912            \\\\\n",
       "\t 191231607864610010 & M0009              & 2019123107         &  4                 &  32000             & 201912            \\\\\n",
       "\t 191216678376100100 & M0005              & 2019121603         &  6                 & 210000             & 201912            \\\\\n",
       "\t 191216678533100100 & M0005              & 2019121604         &  4                 & 140000             & 201912            \\\\\n",
       "\t 191216107839010010 & M0001              & 2019121605         &  3                 &  72000             & 201912            \\\\\n",
       "\t 191216107298910010 & M0001              & 2019121606         &  2                 &  48000             & 201912            \\\\\n",
       "\t 191217378488100100 & M0003              & 2019121701         &  1                 &  17000             & 201912            \\\\\n",
       "\t 191217378513100100 & M0007              & 2019121702         &  2                 &  30000             & 201912            \\\\\n",
       "\t 191217137851110010 & M0001              & 2019121704         &  9                 & 216000             & 201912            \\\\\n",
       "\t 191217578481100100 & M0005              & 2019121705         &  3                 & 105000             & 201912            \\\\\n",
       "\t ... & ... & ... & ... & ... & ...\\\\\n",
       "\t 191208137385810010 & M0006              & 2019120803         & 1                  &  25000             & 201912            \\\\\n",
       "\t 191208578401100100 & M0008              & 2019120806         & 1                  &  10000             & 201912            \\\\\n",
       "\t 191209674238100100 & M0001              & 2019120901         & 9                  & 216000             & 201912            \\\\\n",
       "\t 191210137850310010 & M0002              & 2019121001         & 3                  &  36000             & 201912            \\\\\n",
       "\t 191210578543100100 & M0005              & 2019121002         & 2                  &  70000             & 201912            \\\\\n",
       "\t 191210578596100100 & M0002              & 2019121003         & 1                  &  12000             & 201912            \\\\\n",
       "\t 191210517425810010 & M0005              & 2019121004         & 2                  &  70000             & 201912            \\\\\n",
       "\t 191210517434110010 & M0008              & 2019121005         & 2                  &  20000             & 201912            \\\\\n",
       "\t 191210107298910010 & M0002              & 2019121006         & 2                  &  24000             & 201912            \\\\\n",
       "\t 191210517412210010 & M0005              & 2019121007         & 4                  & 140000             & 201912            \\\\\n",
       "\t 191211371966100100 & M0001              & 2019121101         & 2                  &  48000             & 201912            \\\\\n",
       "\t 191211137436110010 & M0002              & 2019121102         & 2                  &  24000             & 201912            \\\\\n",
       "\t 191212547862510010 & M0001              & 2019121202         & 4                  &  96000             & 201912            \\\\\n",
       "\t 191212607833610010 & M0005              & 2019121203         & 4                  & 140000             & 201912            \\\\\n",
       "\t 191212107393010010 & M0004              & 2019121204         & 2                  &  50000             & 201912            \\\\\n",
       "\t 191213378539100100 & M0005              & 2019121301         & 2                  &  70000             & 201912            \\\\\n",
       "\t 191213547302810010 & M0002              & 2019121302         & 4                  &  48000             & 201912            \\\\\n",
       "\t 191213547404510010 & M0005              & 2019121303         & 1                  &  35000             & 201912            \\\\\n",
       "\t 191213181000524010 & M0008              & 2019121304         & 1                  &  10000             & 201912            \\\\\n",
       "\t 191214107853910010 & M0006              & 2019121401         & 2                  &  50000             & 201912            \\\\\n",
       "\t 191214673780100100 & M0005              & 2019121402         & 2                  &  70000             & 201912            \\\\\n",
       "\t 191214517862910010 & M0005              & 2019121403         & 2                  &  70000             & 201912            \\\\\n",
       "\t 191214607846210010 & M0006              & 2019121404         & 3                  &  75000             & 201912            \\\\\n",
       "\t 191214607864310010 & M0002              & 2019121405         & 3                  &  36000             & 201912            \\\\\n",
       "\t 191215137850410010 & M0003              & 2019121501         & 2                  &  34000             & 201912            \\\\\n",
       "\t 191215547862510010 & M0002              & 2019121502         & 3                  &  36000             & 201912            \\\\\n",
       "\t 191215547862510010 & M0009              & 2019121502         & 3                  &  24000             & 201912            \\\\\n",
       "\t 191215137422210010 & M0008              & 2019121503         & 1                  &  10000             & 201912            \\\\\n",
       "\t 191215181000524010 & M0001              & 2019121504         & 1                  &  24000             & 201912            \\\\\n",
       "\t 191216137421910010 & M0007              & 2019121602         & 4                  &  60000             & 201912            \\\\\n",
       "\\end{tabular}\n"
      ],
      "text/markdown": [
       "\n",
       "| order_no | item_id | reserv_no | quantity | sales | month |\n",
       "|---|---|---|---|---|---|\n",
       "| 191228137840110010 | M0003              | 2019122805         |  1                 |  17000             | 201912             |\n",
       "| 191228137837810010 | M0001              | 2019122806         | 10                 | 240000             | 201912             |\n",
       "| 191228547385810010 | M0003              | 2019122807         |  2                 |  34000             | 201912             |\n",
       "| 191228567831310010 | M0008              | 2019122808         |  1                 |  10000             | 201912             |\n",
       "| 191228567430310010 | M0005              | 2019122809         |  4                 | 140000             | 201912             |\n",
       "| 191228137860010010 | M0005              | 2019122810         |  2                 |  70000             | 201912             |\n",
       "| 191228137860010010 | M0009              | 2019122810         |  2                 |  16000             | 201912             |\n",
       "| 191229107864610010 | M0005              | 2019122901         |  4                 | 140000             | 201912             |\n",
       "| 191229107864610010 | M0009              | 2019122901         |  4                 |  32000             | 201912             |\n",
       "| 191229137425710010 | M0003              | 2019122902         |  2                 |  34000             | 201912             |\n",
       "| 191230137860610010 | M0003              | 2019123002         |  3                 |  51000             | 201912             |\n",
       "| 191230137865010010 | M0001              | 2019123003         |  8                 | 192000             | 201912             |\n",
       "| 191230137847710020 | M0005              | 2019123005         |  2                 |  70000             | 201912             |\n",
       "| 191230187379710010 | M0005              | 2019123006         |  1                 |  35000             | 201912             |\n",
       "| 191230187379710010 | M0009              | 2019123006         |  1                 |   8000             | 201912             |\n",
       "| 191231137450910010 | M0005              | 2019123101         |  4                 | 140000             | 201912             |\n",
       "| 191231567834710010 | M0006              | 2019123102         |  4                 | 100000             | 201912             |\n",
       "| 191231107865610010 | M0008              | 2019123104         |  3                 |  30000             | 201912             |\n",
       "| 191231137864710010 | M0001              | 2019123105         |  8                 | 192000             | 201912             |\n",
       "| 191231137864110010 | M0005              | 2019123106         |  6                 | 210000             | 201912             |\n",
       "| 191231607864610010 | M0005              | 2019123107         |  4                 | 140000             | 201912             |\n",
       "| 191231607864610010 | M0009              | 2019123107         |  4                 |  32000             | 201912             |\n",
       "| 191216678376100100 | M0005              | 2019121603         |  6                 | 210000             | 201912             |\n",
       "| 191216678533100100 | M0005              | 2019121604         |  4                 | 140000             | 201912             |\n",
       "| 191216107839010010 | M0001              | 2019121605         |  3                 |  72000             | 201912             |\n",
       "| 191216107298910010 | M0001              | 2019121606         |  2                 |  48000             | 201912             |\n",
       "| 191217378488100100 | M0003              | 2019121701         |  1                 |  17000             | 201912             |\n",
       "| 191217378513100100 | M0007              | 2019121702         |  2                 |  30000             | 201912             |\n",
       "| 191217137851110010 | M0001              | 2019121704         |  9                 | 216000             | 201912             |\n",
       "| 191217578481100100 | M0005              | 2019121705         |  3                 | 105000             | 201912             |\n",
       "| ... | ... | ... | ... | ... | ... |\n",
       "| 191208137385810010 | M0006              | 2019120803         | 1                  |  25000             | 201912             |\n",
       "| 191208578401100100 | M0008              | 2019120806         | 1                  |  10000             | 201912             |\n",
       "| 191209674238100100 | M0001              | 2019120901         | 9                  | 216000             | 201912             |\n",
       "| 191210137850310010 | M0002              | 2019121001         | 3                  |  36000             | 201912             |\n",
       "| 191210578543100100 | M0005              | 2019121002         | 2                  |  70000             | 201912             |\n",
       "| 191210578596100100 | M0002              | 2019121003         | 1                  |  12000             | 201912             |\n",
       "| 191210517425810010 | M0005              | 2019121004         | 2                  |  70000             | 201912             |\n",
       "| 191210517434110010 | M0008              | 2019121005         | 2                  |  20000             | 201912             |\n",
       "| 191210107298910010 | M0002              | 2019121006         | 2                  |  24000             | 201912             |\n",
       "| 191210517412210010 | M0005              | 2019121007         | 4                  | 140000             | 201912             |\n",
       "| 191211371966100100 | M0001              | 2019121101         | 2                  |  48000             | 201912             |\n",
       "| 191211137436110010 | M0002              | 2019121102         | 2                  |  24000             | 201912             |\n",
       "| 191212547862510010 | M0001              | 2019121202         | 4                  |  96000             | 201912             |\n",
       "| 191212607833610010 | M0005              | 2019121203         | 4                  | 140000             | 201912             |\n",
       "| 191212107393010010 | M0004              | 2019121204         | 2                  |  50000             | 201912             |\n",
       "| 191213378539100100 | M0005              | 2019121301         | 2                  |  70000             | 201912             |\n",
       "| 191213547302810010 | M0002              | 2019121302         | 4                  |  48000             | 201912             |\n",
       "| 191213547404510010 | M0005              | 2019121303         | 1                  |  35000             | 201912             |\n",
       "| 191213181000524010 | M0008              | 2019121304         | 1                  |  10000             | 201912             |\n",
       "| 191214107853910010 | M0006              | 2019121401         | 2                  |  50000             | 201912             |\n",
       "| 191214673780100100 | M0005              | 2019121402         | 2                  |  70000             | 201912             |\n",
       "| 191214517862910010 | M0005              | 2019121403         | 2                  |  70000             | 201912             |\n",
       "| 191214607846210010 | M0006              | 2019121404         | 3                  |  75000             | 201912             |\n",
       "| 191214607864310010 | M0002              | 2019121405         | 3                  |  36000             | 201912             |\n",
       "| 191215137850410010 | M0003              | 2019121501         | 2                  |  34000             | 201912             |\n",
       "| 191215547862510010 | M0002              | 2019121502         | 3                  |  36000             | 201912             |\n",
       "| 191215547862510010 | M0009              | 2019121502         | 3                  |  24000             | 201912             |\n",
       "| 191215137422210010 | M0008              | 2019121503         | 1                  |  10000             | 201912             |\n",
       "| 191215181000524010 | M0001              | 2019121504         | 1                  |  24000             | 201912             |\n",
       "| 191216137421910010 | M0007              | 2019121602         | 4                  |  60000             | 201912             |\n",
       "\n"
      ],
      "text/plain": [
       "    order_no           item_id reserv_no  quantity sales  month \n",
       "1   191228137840110010 M0003   2019122805  1        17000 201912\n",
       "2   191228137837810010 M0001   2019122806 10       240000 201912\n",
       "3   191228547385810010 M0003   2019122807  2        34000 201912\n",
       "4   191228567831310010 M0008   2019122808  1        10000 201912\n",
       "5   191228567430310010 M0005   2019122809  4       140000 201912\n",
       "6   191228137860010010 M0005   2019122810  2        70000 201912\n",
       "7   191228137860010010 M0009   2019122810  2        16000 201912\n",
       "8   191229107864610010 M0005   2019122901  4       140000 201912\n",
       "9   191229107864610010 M0009   2019122901  4        32000 201912\n",
       "10  191229137425710010 M0003   2019122902  2        34000 201912\n",
       "11  191230137860610010 M0003   2019123002  3        51000 201912\n",
       "12  191230137865010010 M0001   2019123003  8       192000 201912\n",
       "13  191230137847710020 M0005   2019123005  2        70000 201912\n",
       "14  191230187379710010 M0005   2019123006  1        35000 201912\n",
       "15  191230187379710010 M0009   2019123006  1         8000 201912\n",
       "16  191231137450910010 M0005   2019123101  4       140000 201912\n",
       "17  191231567834710010 M0006   2019123102  4       100000 201912\n",
       "18  191231107865610010 M0008   2019123104  3        30000 201912\n",
       "19  191231137864710010 M0001   2019123105  8       192000 201912\n",
       "20  191231137864110010 M0005   2019123106  6       210000 201912\n",
       "21  191231607864610010 M0005   2019123107  4       140000 201912\n",
       "22  191231607864610010 M0009   2019123107  4        32000 201912\n",
       "23  191216678376100100 M0005   2019121603  6       210000 201912\n",
       "24  191216678533100100 M0005   2019121604  4       140000 201912\n",
       "25  191216107839010010 M0001   2019121605  3        72000 201912\n",
       "26  191216107298910010 M0001   2019121606  2        48000 201912\n",
       "27  191217378488100100 M0003   2019121701  1        17000 201912\n",
       "28  191217378513100100 M0007   2019121702  2        30000 201912\n",
       "29  191217137851110010 M0001   2019121704  9       216000 201912\n",
       "30  191217578481100100 M0005   2019121705  3       105000 201912\n",
       "... ...                ...     ...        ...      ...    ...   \n",
       "362 191208137385810010 M0006   2019120803 1         25000 201912\n",
       "363 191208578401100100 M0008   2019120806 1         10000 201912\n",
       "364 191209674238100100 M0001   2019120901 9        216000 201912\n",
       "365 191210137850310010 M0002   2019121001 3         36000 201912\n",
       "366 191210578543100100 M0005   2019121002 2         70000 201912\n",
       "367 191210578596100100 M0002   2019121003 1         12000 201912\n",
       "368 191210517425810010 M0005   2019121004 2         70000 201912\n",
       "369 191210517434110010 M0008   2019121005 2         20000 201912\n",
       "370 191210107298910010 M0002   2019121006 2         24000 201912\n",
       "371 191210517412210010 M0005   2019121007 4        140000 201912\n",
       "372 191211371966100100 M0001   2019121101 2         48000 201912\n",
       "373 191211137436110010 M0002   2019121102 2         24000 201912\n",
       "374 191212547862510010 M0001   2019121202 4         96000 201912\n",
       "375 191212607833610010 M0005   2019121203 4        140000 201912\n",
       "376 191212107393010010 M0004   2019121204 2         50000 201912\n",
       "377 191213378539100100 M0005   2019121301 2         70000 201912\n",
       "378 191213547302810010 M0002   2019121302 4         48000 201912\n",
       "379 191213547404510010 M0005   2019121303 1         35000 201912\n",
       "380 191213181000524010 M0008   2019121304 1         10000 201912\n",
       "381 191214107853910010 M0006   2019121401 2         50000 201912\n",
       "382 191214673780100100 M0005   2019121402 2         70000 201912\n",
       "383 191214517862910010 M0005   2019121403 2         70000 201912\n",
       "384 191214607846210010 M0006   2019121404 3         75000 201912\n",
       "385 191214607864310010 M0002   2019121405 3         36000 201912\n",
       "386 191215137850410010 M0003   2019121501 2         34000 201912\n",
       "387 191215547862510010 M0002   2019121502 3         36000 201912\n",
       "388 191215547862510010 M0009   2019121502 3         24000 201912\n",
       "389 191215137422210010 M0008   2019121503 1         10000 201912\n",
       "390 191215181000524010 M0001   2019121504 1         24000 201912\n",
       "391 191216137421910010 M0007   2019121602 4         60000 201912"
      ]
     },
     "metadata": {},
     "output_type": "display_data"
    }
   ],
   "source": [
    "total_amt"
   ]
  },
  {
   "cell_type": "code",
   "execution_count": 7,
   "id": "welsh-relaxation",
   "metadata": {},
   "outputs": [
    {
     "ename": "ERROR",
     "evalue": "Error in group_by(month): 객체 'month'를 찾을 수 없습니다\n",
     "output_type": "error",
     "traceback": [
      "Error in group_by(month): 객체 'month'를 찾을 수 없습니다\nTraceback:\n",
      "1. group_by(month) %>% summarise(amt_monthly = sum(sales/1000))",
      "2. eval(lhs, parent, parent)",
      "3. eval(lhs, parent, parent)",
      "4. group_by(month)"
     ]
    }
   ],
   "source": [
    "total_amt <- order_info_r %>%\n",
    "            mutate(month= substr(reserv_no,1,6))\n",
    "            group_by(month)%>%\n",
    "            summarise(amt_monthly=sum(sales/1000))\n",
    "total_amt"
   ]
  },
  {
   "cell_type": "code",
   "execution_count": 11,
   "id": "threaded-horror",
   "metadata": {},
   "outputs": [
    {
     "name": "stderr",
     "output_type": "stream",
     "text": [
      "ERROR while rich displaying an object: Error in FUN(X[[i]], ...): 객체 'monthly'를 찾을 수 없습니다\n",
      "\n",
      "Traceback:\n",
      "1. FUN(X[[i]], ...)\n",
      "2. tryCatch(withCallingHandlers({\n",
      " .     if (!mime %in% names(repr::mime2repr)) \n",
      " .         stop(\"No repr_* for mimetype \", mime, \" in repr::mime2repr\")\n",
      " .     rpr <- repr::mime2repr[[mime]](obj)\n",
      " .     if (is.null(rpr)) \n",
      " .         return(NULL)\n",
      " .     prepare_content(is.raw(rpr), rpr)\n",
      " . }, error = error_handler), error = outer_handler)\n",
      "3. tryCatchList(expr, classes, parentenv, handlers)\n",
      "4. tryCatchOne(expr, names, parentenv, handlers[[1L]])\n",
      "5. doTryCatch(return(expr), name, parentenv, handler)\n",
      "6. withCallingHandlers({\n",
      " .     if (!mime %in% names(repr::mime2repr)) \n",
      " .         stop(\"No repr_* for mimetype \", mime, \" in repr::mime2repr\")\n",
      " .     rpr <- repr::mime2repr[[mime]](obj)\n",
      " .     if (is.null(rpr)) \n",
      " .         return(NULL)\n",
      " .     prepare_content(is.raw(rpr), rpr)\n",
      " . }, error = error_handler)\n",
      "7. repr::mime2repr[[mime]](obj)\n",
      "8. repr_text.default(obj)\n",
      "9. paste(capture.output(print(obj)), collapse = \"\\n\")\n",
      "10. capture.output(print(obj))\n",
      "11. evalVis(expr)\n",
      "12. withVisible(eval(expr, pf))\n",
      "13. eval(expr, pf)\n",
      "14. eval(expr, pf)\n",
      "15. print(obj)\n",
      "16. print.ggplot(obj)\n",
      "17. ggplot_build(x)\n",
      "18. ggplot_build.ggplot(x)\n",
      "19. by_layer(function(l, d) l$compute_aesthetics(d, plot))\n",
      "20. f(l = layers[[i]], d = data[[i]])\n",
      "21. l$compute_aesthetics(d, plot)\n",
      "22. f(..., self = self)\n",
      "23. scales_add_defaults(plot$scales, data, aesthetics, plot$plot_env)\n",
      "24. lapply(aesthetics[new_aesthetics], eval_tidy, data = data)\n",
      "25. FUN(X[[i]], ...)\n"
     ]
    },
    {
     "data": {
      "image/png": "[encoded data removed]",
      "text/plain": [
       "plot without title"
      ]
     },
     "metadata": {},
     "output_type": "display_data"
    }
   ],
   "source": [
    "ggplot(total_amt,aes(x=monthly,y=amt_monthly,group=1))+geom_line()"
   ]
  },
  {
   "cell_type": "code",
   "execution_count": 12,
   "id": "social-section",
   "metadata": {},
   "outputs": [
    {
     "name": "stderr",
     "output_type": "stream",
     "text": [
      "ERROR while rich displaying an object: Error in FUN(X[[i]], ...): 객체 'amt_monthly'를 찾을 수 없습니다\n",
      "\n",
      "Traceback:\n",
      "1. FUN(X[[i]], ...)\n",
      "2. tryCatch(withCallingHandlers({\n",
      " .     if (!mime %in% names(repr::mime2repr)) \n",
      " .         stop(\"No repr_* for mimetype \", mime, \" in repr::mime2repr\")\n",
      " .     rpr <- repr::mime2repr[[mime]](obj)\n",
      " .     if (is.null(rpr)) \n",
      " .         return(NULL)\n",
      " .     prepare_content(is.raw(rpr), rpr)\n",
      " . }, error = error_handler), error = outer_handler)\n",
      "3. tryCatchList(expr, classes, parentenv, handlers)\n",
      "4. tryCatchOne(expr, names, parentenv, handlers[[1L]])\n",
      "5. doTryCatch(return(expr), name, parentenv, handler)\n",
      "6. withCallingHandlers({\n",
      " .     if (!mime %in% names(repr::mime2repr)) \n",
      " .         stop(\"No repr_* for mimetype \", mime, \" in repr::mime2repr\")\n",
      " .     rpr <- repr::mime2repr[[mime]](obj)\n",
      " .     if (is.null(rpr)) \n",
      " .         return(NULL)\n",
      " .     prepare_content(is.raw(rpr), rpr)\n",
      " . }, error = error_handler)\n",
      "7. repr::mime2repr[[mime]](obj)\n",
      "8. repr_text.default(obj)\n",
      "9. paste(capture.output(print(obj)), collapse = \"\\n\")\n",
      "10. capture.output(print(obj))\n",
      "11. evalVis(expr)\n",
      "12. withVisible(eval(expr, pf))\n",
      "13. eval(expr, pf)\n",
      "14. eval(expr, pf)\n",
      "15. print(obj)\n",
      "16. print.ggplot(obj)\n",
      "17. ggplot_build(x)\n",
      "18. ggplot_build.ggplot(x)\n",
      "19. by_layer(function(l, d) l$compute_aesthetics(d, plot))\n",
      "20. f(l = layers[[i]], d = data[[i]])\n",
      "21. l$compute_aesthetics(d, plot)\n",
      "22. f(..., self = self)\n",
      "23. scales_add_defaults(plot$scales, data, aesthetics, plot$plot_env)\n",
      "24. lapply(aesthetics[new_aesthetics], eval_tidy, data = data)\n",
      "25. FUN(X[[i]], ...)\n"
     ]
    },
    {
     "ename": "ERROR",
     "evalue": "Cannot add ggproto objects together. Did you forget to add this object to a ggplot object?",
     "output_type": "error",
     "traceback": [
      "Cannot add ggproto objects together. Did you forget to add this object to a ggplot object?Traceback:\n",
      "1. `+.gg`(geom_line(color = \"red\", size = 1), geom_point(color = \"darkred\", \n .     size = 3))",
      "2. abort(\"Cannot add ggproto objects together. Did you forget to add this object to a ggplot object?\")"
     ]
    },
    {
     "data": {
      "image/png": "[encoded data removed]",
      "text/plain": [
       "plot without title"
      ]
     },
     "metadata": {},
     "output_type": "display_data"
    }
   ],
   "source": [
    "ggplot(total_amt, aes(x = month, y = amt_monthly, group = 1, label = amt_monthly))\n",
    "    geom_line(color=\"red\",size=1)+\n",
    "    geom_point(color=\"darkred\",size=3)+\n",
    "    geom_text(vjust=1.5,hjust=0.5)"
   ]
  },
  {
   "cell_type": "code",
   "execution_count": 13,
   "id": "random-information",
   "metadata": {},
   "outputs": [
    {
     "data": {
      "text/html": [
       "<table>\n",
       "<thead><tr><th scope=col>len</th><th scope=col>supp</th><th scope=col>dose</th></tr></thead>\n",
       "<tbody>\n",
       "\t<tr><td> 4.2</td><td>VC  </td><td>0.5 </td></tr>\n",
       "\t<tr><td>11.5</td><td>VC  </td><td>0.5 </td></tr>\n",
       "\t<tr><td> 7.3</td><td>VC  </td><td>0.5 </td></tr>\n",
       "\t<tr><td> 5.8</td><td>VC  </td><td>0.5 </td></tr>\n",
       "\t<tr><td> 6.4</td><td>VC  </td><td>0.5 </td></tr>\n",
       "\t<tr><td>10.0</td><td>VC  </td><td>0.5 </td></tr>\n",
       "</tbody>\n",
       "</table>\n"
      ],
      "text/latex": [
       "\\begin{tabular}{r|lll}\n",
       " len & supp & dose\\\\\n",
       "\\hline\n",
       "\t  4.2 & VC   & 0.5 \\\\\n",
       "\t 11.5 & VC   & 0.5 \\\\\n",
       "\t  7.3 & VC   & 0.5 \\\\\n",
       "\t  5.8 & VC   & 0.5 \\\\\n",
       "\t  6.4 & VC   & 0.5 \\\\\n",
       "\t 10.0 & VC   & 0.5 \\\\\n",
       "\\end{tabular}\n"
      ],
      "text/markdown": [
       "\n",
       "| len | supp | dose |\n",
       "|---|---|---|\n",
       "|  4.2 | VC   | 0.5  |\n",
       "| 11.5 | VC   | 0.5  |\n",
       "|  7.3 | VC   | 0.5  |\n",
       "|  5.8 | VC   | 0.5  |\n",
       "|  6.4 | VC   | 0.5  |\n",
       "| 10.0 | VC   | 0.5  |\n",
       "\n"
      ],
      "text/plain": [
       "  len  supp dose\n",
       "1  4.2 VC   0.5 \n",
       "2 11.5 VC   0.5 \n",
       "3  7.3 VC   0.5 \n",
       "4  5.8 VC   0.5 \n",
       "5  6.4 VC   0.5 \n",
       "6 10.0 VC   0.5 "
      ]
     },
     "metadata": {},
     "output_type": "display_data"
    }
   ],
   "source": [
    "head(ToothGrowth)"
   ]
  },
  {
   "cell_type": "code",
   "execution_count": 14,
   "id": "incident-cleveland",
   "metadata": {},
   "outputs": [],
   "source": [
    "df <- ToothGrowth %>%\n",
    "        group_by(dose) %>%\n",
    "        summarise()"
   ]
  },
  {
   "cell_type": "code",
   "execution_count": 15,
   "id": "opponent-national",
   "metadata": {},
   "outputs": [
    {
     "data": {
      "text/html": [
       "<table>\n",
       "<thead><tr><th scope=col>len</th><th scope=col>supp</th><th scope=col>dose</th></tr></thead>\n",
       "<tbody>\n",
       "\t<tr><td> 4.2</td><td>VC  </td><td>0.5 </td></tr>\n",
       "\t<tr><td>11.5</td><td>VC  </td><td>0.5 </td></tr>\n",
       "\t<tr><td> 7.3</td><td>VC  </td><td>0.5 </td></tr>\n",
       "\t<tr><td> 5.8</td><td>VC  </td><td>0.5 </td></tr>\n",
       "\t<tr><td> 6.4</td><td>VC  </td><td>0.5 </td></tr>\n",
       "\t<tr><td>10.0</td><td>VC  </td><td>0.5 </td></tr>\n",
       "\t<tr><td>11.2</td><td>VC  </td><td>0.5 </td></tr>\n",
       "\t<tr><td>11.2</td><td>VC  </td><td>0.5 </td></tr>\n",
       "\t<tr><td> 5.2</td><td>VC  </td><td>0.5 </td></tr>\n",
       "\t<tr><td> 7.0</td><td>VC  </td><td>0.5 </td></tr>\n",
       "\t<tr><td>16.5</td><td>VC  </td><td>1.0 </td></tr>\n",
       "\t<tr><td>16.5</td><td>VC  </td><td>1.0 </td></tr>\n",
       "\t<tr><td>15.2</td><td>VC  </td><td>1.0 </td></tr>\n",
       "\t<tr><td>17.3</td><td>VC  </td><td>1.0 </td></tr>\n",
       "\t<tr><td>22.5</td><td>VC  </td><td>1.0 </td></tr>\n",
       "\t<tr><td>17.3</td><td>VC  </td><td>1.0 </td></tr>\n",
       "\t<tr><td>13.6</td><td>VC  </td><td>1.0 </td></tr>\n",
       "\t<tr><td>14.5</td><td>VC  </td><td>1.0 </td></tr>\n",
       "\t<tr><td>18.8</td><td>VC  </td><td>1.0 </td></tr>\n",
       "\t<tr><td>15.5</td><td>VC  </td><td>1.0 </td></tr>\n",
       "\t<tr><td>23.6</td><td>VC  </td><td>2.0 </td></tr>\n",
       "\t<tr><td>18.5</td><td>VC  </td><td>2.0 </td></tr>\n",
       "\t<tr><td>33.9</td><td>VC  </td><td>2.0 </td></tr>\n",
       "\t<tr><td>25.5</td><td>VC  </td><td>2.0 </td></tr>\n",
       "\t<tr><td>26.4</td><td>VC  </td><td>2.0 </td></tr>\n",
       "\t<tr><td>32.5</td><td>VC  </td><td>2.0 </td></tr>\n",
       "\t<tr><td>26.7</td><td>VC  </td><td>2.0 </td></tr>\n",
       "\t<tr><td>21.5</td><td>VC  </td><td>2.0 </td></tr>\n",
       "\t<tr><td>23.3</td><td>VC  </td><td>2.0 </td></tr>\n",
       "\t<tr><td>29.5</td><td>VC  </td><td>2.0 </td></tr>\n",
       "\t<tr><td>15.2</td><td>OJ  </td><td>0.5 </td></tr>\n",
       "\t<tr><td>21.5</td><td>OJ  </td><td>0.5 </td></tr>\n",
       "\t<tr><td>17.6</td><td>OJ  </td><td>0.5 </td></tr>\n",
       "\t<tr><td> 9.7</td><td>OJ  </td><td>0.5 </td></tr>\n",
       "\t<tr><td>14.5</td><td>OJ  </td><td>0.5 </td></tr>\n",
       "\t<tr><td>10.0</td><td>OJ  </td><td>0.5 </td></tr>\n",
       "\t<tr><td> 8.2</td><td>OJ  </td><td>0.5 </td></tr>\n",
       "\t<tr><td> 9.4</td><td>OJ  </td><td>0.5 </td></tr>\n",
       "\t<tr><td>16.5</td><td>OJ  </td><td>0.5 </td></tr>\n",
       "\t<tr><td> 9.7</td><td>OJ  </td><td>0.5 </td></tr>\n",
       "\t<tr><td>19.7</td><td>OJ  </td><td>1.0 </td></tr>\n",
       "\t<tr><td>23.3</td><td>OJ  </td><td>1.0 </td></tr>\n",
       "\t<tr><td>23.6</td><td>OJ  </td><td>1.0 </td></tr>\n",
       "\t<tr><td>26.4</td><td>OJ  </td><td>1.0 </td></tr>\n",
       "\t<tr><td>20.0</td><td>OJ  </td><td>1.0 </td></tr>\n",
       "\t<tr><td>25.2</td><td>OJ  </td><td>1.0 </td></tr>\n",
       "\t<tr><td>25.8</td><td>OJ  </td><td>1.0 </td></tr>\n",
       "\t<tr><td>21.2</td><td>OJ  </td><td>1.0 </td></tr>\n",
       "\t<tr><td>14.5</td><td>OJ  </td><td>1.0 </td></tr>\n",
       "\t<tr><td>27.3</td><td>OJ  </td><td>1.0 </td></tr>\n",
       "\t<tr><td>25.5</td><td>OJ  </td><td>2.0 </td></tr>\n",
       "\t<tr><td>26.4</td><td>OJ  </td><td>2.0 </td></tr>\n",
       "\t<tr><td>22.4</td><td>OJ  </td><td>2.0 </td></tr>\n",
       "\t<tr><td>24.5</td><td>OJ  </td><td>2.0 </td></tr>\n",
       "\t<tr><td>24.8</td><td>OJ  </td><td>2.0 </td></tr>\n",
       "\t<tr><td>30.9</td><td>OJ  </td><td>2.0 </td></tr>\n",
       "\t<tr><td>26.4</td><td>OJ  </td><td>2.0 </td></tr>\n",
       "\t<tr><td>27.3</td><td>OJ  </td><td>2.0 </td></tr>\n",
       "\t<tr><td>29.4</td><td>OJ  </td><td>2.0 </td></tr>\n",
       "\t<tr><td>23.0</td><td>OJ  </td><td>2.0 </td></tr>\n",
       "</tbody>\n",
       "</table>\n"
      ],
      "text/latex": [
       "\\begin{tabular}{r|lll}\n",
       " len & supp & dose\\\\\n",
       "\\hline\n",
       "\t  4.2 & VC   & 0.5 \\\\\n",
       "\t 11.5 & VC   & 0.5 \\\\\n",
       "\t  7.3 & VC   & 0.5 \\\\\n",
       "\t  5.8 & VC   & 0.5 \\\\\n",
       "\t  6.4 & VC   & 0.5 \\\\\n",
       "\t 10.0 & VC   & 0.5 \\\\\n",
       "\t 11.2 & VC   & 0.5 \\\\\n",
       "\t 11.2 & VC   & 0.5 \\\\\n",
       "\t  5.2 & VC   & 0.5 \\\\\n",
       "\t  7.0 & VC   & 0.5 \\\\\n",
       "\t 16.5 & VC   & 1.0 \\\\\n",
       "\t 16.5 & VC   & 1.0 \\\\\n",
       "\t 15.2 & VC   & 1.0 \\\\\n",
       "\t 17.3 & VC   & 1.0 \\\\\n",
       "\t 22.5 & VC   & 1.0 \\\\\n",
       "\t 17.3 & VC   & 1.0 \\\\\n",
       "\t 13.6 & VC   & 1.0 \\\\\n",
       "\t 14.5 & VC   & 1.0 \\\\\n",
       "\t 18.8 & VC   & 1.0 \\\\\n",
       "\t 15.5 & VC   & 1.0 \\\\\n",
       "\t 23.6 & VC   & 2.0 \\\\\n",
       "\t 18.5 & VC   & 2.0 \\\\\n",
       "\t 33.9 & VC   & 2.0 \\\\\n",
       "\t 25.5 & VC   & 2.0 \\\\\n",
       "\t 26.4 & VC   & 2.0 \\\\\n",
       "\t 32.5 & VC   & 2.0 \\\\\n",
       "\t 26.7 & VC   & 2.0 \\\\\n",
       "\t 21.5 & VC   & 2.0 \\\\\n",
       "\t 23.3 & VC   & 2.0 \\\\\n",
       "\t 29.5 & VC   & 2.0 \\\\\n",
       "\t 15.2 & OJ   & 0.5 \\\\\n",
       "\t 21.5 & OJ   & 0.5 \\\\\n",
       "\t 17.6 & OJ   & 0.5 \\\\\n",
       "\t  9.7 & OJ   & 0.5 \\\\\n",
       "\t 14.5 & OJ   & 0.5 \\\\\n",
       "\t 10.0 & OJ   & 0.5 \\\\\n",
       "\t  8.2 & OJ   & 0.5 \\\\\n",
       "\t  9.4 & OJ   & 0.5 \\\\\n",
       "\t 16.5 & OJ   & 0.5 \\\\\n",
       "\t  9.7 & OJ   & 0.5 \\\\\n",
       "\t 19.7 & OJ   & 1.0 \\\\\n",
       "\t 23.3 & OJ   & 1.0 \\\\\n",
       "\t 23.6 & OJ   & 1.0 \\\\\n",
       "\t 26.4 & OJ   & 1.0 \\\\\n",
       "\t 20.0 & OJ   & 1.0 \\\\\n",
       "\t 25.2 & OJ   & 1.0 \\\\\n",
       "\t 25.8 & OJ   & 1.0 \\\\\n",
       "\t 21.2 & OJ   & 1.0 \\\\\n",
       "\t 14.5 & OJ   & 1.0 \\\\\n",
       "\t 27.3 & OJ   & 1.0 \\\\\n",
       "\t 25.5 & OJ   & 2.0 \\\\\n",
       "\t 26.4 & OJ   & 2.0 \\\\\n",
       "\t 22.4 & OJ   & 2.0 \\\\\n",
       "\t 24.5 & OJ   & 2.0 \\\\\n",
       "\t 24.8 & OJ   & 2.0 \\\\\n",
       "\t 30.9 & OJ   & 2.0 \\\\\n",
       "\t 26.4 & OJ   & 2.0 \\\\\n",
       "\t 27.3 & OJ   & 2.0 \\\\\n",
       "\t 29.4 & OJ   & 2.0 \\\\\n",
       "\t 23.0 & OJ   & 2.0 \\\\\n",
       "\\end{tabular}\n"
      ],
      "text/markdown": [
       "\n",
       "| len | supp | dose |\n",
       "|---|---|---|\n",
       "|  4.2 | VC   | 0.5  |\n",
       "| 11.5 | VC   | 0.5  |\n",
       "|  7.3 | VC   | 0.5  |\n",
       "|  5.8 | VC   | 0.5  |\n",
       "|  6.4 | VC   | 0.5  |\n",
       "| 10.0 | VC   | 0.5  |\n",
       "| 11.2 | VC   | 0.5  |\n",
       "| 11.2 | VC   | 0.5  |\n",
       "|  5.2 | VC   | 0.5  |\n",
       "|  7.0 | VC   | 0.5  |\n",
       "| 16.5 | VC   | 1.0  |\n",
       "| 16.5 | VC   | 1.0  |\n",
       "| 15.2 | VC   | 1.0  |\n",
       "| 17.3 | VC   | 1.0  |\n",
       "| 22.5 | VC   | 1.0  |\n",
       "| 17.3 | VC   | 1.0  |\n",
       "| 13.6 | VC   | 1.0  |\n",
       "| 14.5 | VC   | 1.0  |\n",
       "| 18.8 | VC   | 1.0  |\n",
       "| 15.5 | VC   | 1.0  |\n",
       "| 23.6 | VC   | 2.0  |\n",
       "| 18.5 | VC   | 2.0  |\n",
       "| 33.9 | VC   | 2.0  |\n",
       "| 25.5 | VC   | 2.0  |\n",
       "| 26.4 | VC   | 2.0  |\n",
       "| 32.5 | VC   | 2.0  |\n",
       "| 26.7 | VC   | 2.0  |\n",
       "| 21.5 | VC   | 2.0  |\n",
       "| 23.3 | VC   | 2.0  |\n",
       "| 29.5 | VC   | 2.0  |\n",
       "| 15.2 | OJ   | 0.5  |\n",
       "| 21.5 | OJ   | 0.5  |\n",
       "| 17.6 | OJ   | 0.5  |\n",
       "|  9.7 | OJ   | 0.5  |\n",
       "| 14.5 | OJ   | 0.5  |\n",
       "| 10.0 | OJ   | 0.5  |\n",
       "|  8.2 | OJ   | 0.5  |\n",
       "|  9.4 | OJ   | 0.5  |\n",
       "| 16.5 | OJ   | 0.5  |\n",
       "|  9.7 | OJ   | 0.5  |\n",
       "| 19.7 | OJ   | 1.0  |\n",
       "| 23.3 | OJ   | 1.0  |\n",
       "| 23.6 | OJ   | 1.0  |\n",
       "| 26.4 | OJ   | 1.0  |\n",
       "| 20.0 | OJ   | 1.0  |\n",
       "| 25.2 | OJ   | 1.0  |\n",
       "| 25.8 | OJ   | 1.0  |\n",
       "| 21.2 | OJ   | 1.0  |\n",
       "| 14.5 | OJ   | 1.0  |\n",
       "| 27.3 | OJ   | 1.0  |\n",
       "| 25.5 | OJ   | 2.0  |\n",
       "| 26.4 | OJ   | 2.0  |\n",
       "| 22.4 | OJ   | 2.0  |\n",
       "| 24.5 | OJ   | 2.0  |\n",
       "| 24.8 | OJ   | 2.0  |\n",
       "| 30.9 | OJ   | 2.0  |\n",
       "| 26.4 | OJ   | 2.0  |\n",
       "| 27.3 | OJ   | 2.0  |\n",
       "| 29.4 | OJ   | 2.0  |\n",
       "| 23.0 | OJ   | 2.0  |\n",
       "\n"
      ],
      "text/plain": [
       "   len  supp dose\n",
       "1   4.2 VC   0.5 \n",
       "2  11.5 VC   0.5 \n",
       "3   7.3 VC   0.5 \n",
       "4   5.8 VC   0.5 \n",
       "5   6.4 VC   0.5 \n",
       "6  10.0 VC   0.5 \n",
       "7  11.2 VC   0.5 \n",
       "8  11.2 VC   0.5 \n",
       "9   5.2 VC   0.5 \n",
       "10  7.0 VC   0.5 \n",
       "11 16.5 VC   1.0 \n",
       "12 16.5 VC   1.0 \n",
       "13 15.2 VC   1.0 \n",
       "14 17.3 VC   1.0 \n",
       "15 22.5 VC   1.0 \n",
       "16 17.3 VC   1.0 \n",
       "17 13.6 VC   1.0 \n",
       "18 14.5 VC   1.0 \n",
       "19 18.8 VC   1.0 \n",
       "20 15.5 VC   1.0 \n",
       "21 23.6 VC   2.0 \n",
       "22 18.5 VC   2.0 \n",
       "23 33.9 VC   2.0 \n",
       "24 25.5 VC   2.0 \n",
       "25 26.4 VC   2.0 \n",
       "26 32.5 VC   2.0 \n",
       "27 26.7 VC   2.0 \n",
       "28 21.5 VC   2.0 \n",
       "29 23.3 VC   2.0 \n",
       "30 29.5 VC   2.0 \n",
       "31 15.2 OJ   0.5 \n",
       "32 21.5 OJ   0.5 \n",
       "33 17.6 OJ   0.5 \n",
       "34  9.7 OJ   0.5 \n",
       "35 14.5 OJ   0.5 \n",
       "36 10.0 OJ   0.5 \n",
       "37  8.2 OJ   0.5 \n",
       "38  9.4 OJ   0.5 \n",
       "39 16.5 OJ   0.5 \n",
       "40  9.7 OJ   0.5 \n",
       "41 19.7 OJ   1.0 \n",
       "42 23.3 OJ   1.0 \n",
       "43 23.6 OJ   1.0 \n",
       "44 26.4 OJ   1.0 \n",
       "45 20.0 OJ   1.0 \n",
       "46 25.2 OJ   1.0 \n",
       "47 25.8 OJ   1.0 \n",
       "48 21.2 OJ   1.0 \n",
       "49 14.5 OJ   1.0 \n",
       "50 27.3 OJ   1.0 \n",
       "51 25.5 OJ   2.0 \n",
       "52 26.4 OJ   2.0 \n",
       "53 22.4 OJ   2.0 \n",
       "54 24.5 OJ   2.0 \n",
       "55 24.8 OJ   2.0 \n",
       "56 30.9 OJ   2.0 \n",
       "57 26.4 OJ   2.0 \n",
       "58 27.3 OJ   2.0 \n",
       "59 29.4 OJ   2.0 \n",
       "60 23.0 OJ   2.0 "
      ]
     },
     "metadata": {},
     "output_type": "display_data"
    }
   ],
   "source": [
    "df"
   ]
  },
  {
   "cell_type": "code",
   "execution_count": 17,
   "id": "raised-passage",
   "metadata": {},
   "outputs": [
    {
     "name": "stderr",
     "output_type": "stream",
     "text": [
      "ERROR while rich displaying an object: Error in FUN(X[[i]], ...): 객체 'dose.len'를 찾을 수 없습니다\n",
      "\n",
      "Traceback:\n",
      "1. FUN(X[[i]], ...)\n",
      "2. tryCatch(withCallingHandlers({\n",
      " .     if (!mime %in% names(repr::mime2repr)) \n",
      " .         stop(\"No repr_* for mimetype \", mime, \" in repr::mime2repr\")\n",
      " .     rpr <- repr::mime2repr[[mime]](obj)\n",
      " .     if (is.null(rpr)) \n",
      " .         return(NULL)\n",
      " .     prepare_content(is.raw(rpr), rpr)\n",
      " . }, error = error_handler), error = outer_handler)\n",
      "3. tryCatchList(expr, classes, parentenv, handlers)\n",
      "4. tryCatchOne(expr, names, parentenv, handlers[[1L]])\n",
      "5. doTryCatch(return(expr), name, parentenv, handler)\n",
      "6. withCallingHandlers({\n",
      " .     if (!mime %in% names(repr::mime2repr)) \n",
      " .         stop(\"No repr_* for mimetype \", mime, \" in repr::mime2repr\")\n",
      " .     rpr <- repr::mime2repr[[mime]](obj)\n",
      " .     if (is.null(rpr)) \n",
      " .         return(NULL)\n",
      " .     prepare_content(is.raw(rpr), rpr)\n",
      " . }, error = error_handler)\n",
      "7. repr::mime2repr[[mime]](obj)\n",
      "8. repr_text.default(obj)\n",
      "9. paste(capture.output(print(obj)), collapse = \"\\n\")\n",
      "10. capture.output(print(obj))\n",
      "11. evalVis(expr)\n",
      "12. withVisible(eval(expr, pf))\n",
      "13. eval(expr, pf)\n",
      "14. eval(expr, pf)\n",
      "15. print(obj)\n",
      "16. print.ggplot(obj)\n",
      "17. ggplot_build(x)\n",
      "18. ggplot_build.ggplot(x)\n",
      "19. by_layer(function(l, d) l$compute_aesthetics(d, plot))\n",
      "20. f(l = layers[[i]], d = data[[i]])\n",
      "21. l$compute_aesthetics(d, plot)\n",
      "22. f(..., self = self)\n",
      "23. scales_add_defaults(plot$scales, data, aesthetics, plot$plot_env)\n",
      "24. lapply(aesthetics[new_aesthetics], eval_tidy, data = data)\n",
      "25. FUN(X[[i]], ...)\n"
     ]
    },
    {
     "data": {
      "image/png": "[encoded data removed]",
      "text/plain": [
       "plot without title"
      ]
     },
     "metadata": {},
     "output_type": "display_data"
    }
   ],
   "source": [
    "ggplot(df,aes(dose.len))+\n",
    "        geom_line(aes(group=1))"
   ]
  },
  {
   "cell_type": "code",
   "execution_count": 18,
   "id": "responsible-render",
   "metadata": {},
   "outputs": [
    {
     "ename": "ERROR",
     "evalue": "Error: Column `sd` is of unsupported type function\n",
     "output_type": "error",
     "traceback": [
      "Error: Column `sd` is of unsupported type function\nTraceback:\n",
      "1. ToothGrowth %>% group_by(dose, supp) %>% summarise(sd = sd)",
      "2. withVisible(eval(quote(`_fseq`(`_lhs`)), env, env))",
      "3. eval(quote(`_fseq`(`_lhs`)), env, env)",
      "4. eval(quote(`_fseq`(`_lhs`)), env, env)",
      "5. `_fseq`(`_lhs`)",
      "6. freduce(value, `_function_list`)",
      "7. withVisible(function_list[[k]](value))",
      "8. function_list[[k]](value)",
      "9. summarise(., sd = sd)",
      "10. summarise.tbl_df(., sd = sd)",
      "11. summarise_impl(.data, dots, environment(), caller_env())"
     ]
    }
   ],
   "source": [
    "df2 <- ToothGrowth %>%\n",
    "    group_by(dose, supp) %>%\n",
    "    summarise(sd=sd)"
   ]
  },
  {
   "cell_type": "code",
   "execution_count": 20,
   "id": "interim-gilbert",
   "metadata": {},
   "outputs": [
    {
     "ename": "ERROR",
     "evalue": "Error in eval(expr, envir, enclos): 객체 'df2'를 찾을 수 없습니다\n",
     "output_type": "error",
     "traceback": [
      "Error in eval(expr, envir, enclos): 객체 'df2'를 찾을 수 없습니다\nTraceback:\n"
     ]
    }
   ],
   "source": [
    "df2"
   ]
  },
  {
   "cell_type": "code",
   "execution_count": 21,
   "id": "hollywood-laptop",
   "metadata": {},
   "outputs": [
    {
     "ename": "ERROR",
     "evalue": "Error in ggplot(df2, aes(dose, len)): 객체 'df2'를 찾을 수 없습니다\n",
     "output_type": "error",
     "traceback": [
      "Error in ggplot(df2, aes(dose, len)): 객체 'df2'를 찾을 수 없습니다\nTraceback:\n",
      "1. ggplot(df2, aes(dose, len))"
     ]
    }
   ],
   "source": [
    "ggplot(df2,aes(dose,len)) +\n",
    "    geom_line(aes(group=supp))\n"
   ]
  },
  {
   "cell_type": "code",
   "execution_count": 23,
   "id": "beginning-adventure",
   "metadata": {},
   "outputs": [
    {
     "ename": "ERROR",
     "evalue": "Error in ggplot(df2, aes(dose, len)): 객체 'df2'를 찾을 수 없습니다\n",
     "output_type": "error",
     "traceback": [
      "Error in ggplot(df2, aes(dose, len)): 객체 'df2'를 찾을 수 없습니다\nTraceback:\n",
      "1. ggplot(df2, aes(dose, len))"
     ]
    }
   ],
   "source": [
    "ggplot(df2,aes(dose,len)) +\n",
    "    geom_line(aes(group=supp,linetype=supp)) +\n",
    "    geom_point(size=2)\n"
   ]
  },
  {
   "cell_type": "code",
   "execution_count": 24,
   "id": "nervous-chosen",
   "metadata": {},
   "outputs": [],
   "source": [
    "df_boxplot_graph <- inner_join(order_info_r, item_r, by=\"item_id\")"
   ]
  },
  {
   "cell_type": "code",
   "execution_count": 31,
   "id": "smoking-hanging",
   "metadata": {},
   "outputs": [
    {
     "ename": "ERROR",
     "evalue": "Error in ggplot(df_boxplotgraph, aes(x = product_name, y = sales/1000)): 객체 'df_boxplotgraph'를 찾을 수 없습니다\n",
     "output_type": "error",
     "traceback": [
      "Error in ggplot(df_boxplotgraph, aes(x = product_name, y = sales/1000)): 객체 'df_boxplotgraph'를 찾을 수 없습니다\nTraceback:\n",
      "1. ggplot(df_boxplotgraph, aes(x = product_name, y = sales/1000))"
     ]
    }
   ],
   "source": [
    "ggplot(df_boxplotgraph,aes(x= product_name,y=sales/1000))+\n",
    "    goem_boxplot(width=0.8,otlier.size=2, outlier.colour=\"red\")+\n",
    "    labs(title = \"메뉴아이템 상자그림\",x=\"메뉴\",y=\"매출\")"
   ]
  },
  {
   "cell_type": "code",
   "execution_count": 25,
   "id": "associate-wings",
   "metadata": {},
   "outputs": [
    {
     "data": {
      "text/html": [
       "<table>\n",
       "<thead><tr><th></th><th scope=col>len</th><th scope=col>supp</th><th scope=col>dose</th></tr></thead>\n",
       "<tbody>\n",
       "\t<tr><th scope=row>55</th><td>24.8</td><td>OJ  </td><td>2   </td></tr>\n",
       "\t<tr><th scope=row>56</th><td>30.9</td><td>OJ  </td><td>2   </td></tr>\n",
       "\t<tr><th scope=row>57</th><td>26.4</td><td>OJ  </td><td>2   </td></tr>\n",
       "\t<tr><th scope=row>58</th><td>27.3</td><td>OJ  </td><td>2   </td></tr>\n",
       "\t<tr><th scope=row>59</th><td>29.4</td><td>OJ  </td><td>2   </td></tr>\n",
       "\t<tr><th scope=row>60</th><td>23.0</td><td>OJ  </td><td>2   </td></tr>\n",
       "</tbody>\n",
       "</table>\n"
      ],
      "text/latex": [
       "\\begin{tabular}{r|lll}\n",
       "  & len & supp & dose\\\\\n",
       "\\hline\n",
       "\t55 & 24.8 & OJ   & 2   \\\\\n",
       "\t56 & 30.9 & OJ   & 2   \\\\\n",
       "\t57 & 26.4 & OJ   & 2   \\\\\n",
       "\t58 & 27.3 & OJ   & 2   \\\\\n",
       "\t59 & 29.4 & OJ   & 2   \\\\\n",
       "\t60 & 23.0 & OJ   & 2   \\\\\n",
       "\\end{tabular}\n"
      ],
      "text/markdown": [
       "\n",
       "| <!--/--> | len | supp | dose |\n",
       "|---|---|---|---|\n",
       "| 55 | 24.8 | OJ   | 2    |\n",
       "| 56 | 30.9 | OJ   | 2    |\n",
       "| 57 | 26.4 | OJ   | 2    |\n",
       "| 58 | 27.3 | OJ   | 2    |\n",
       "| 59 | 29.4 | OJ   | 2    |\n",
       "| 60 | 23.0 | OJ   | 2    |\n",
       "\n"
      ],
      "text/plain": [
       "   len  supp dose\n",
       "55 24.8 OJ   2   \n",
       "56 30.9 OJ   2   \n",
       "57 26.4 OJ   2   \n",
       "58 27.3 OJ   2   \n",
       "59 29.4 OJ   2   \n",
       "60 23.0 OJ   2   "
      ]
     },
     "metadata": {},
     "output_type": "display_data"
    }
   ],
   "source": [
    "tail(ToothGrowth)"
   ]
  },
  {
   "cell_type": "code",
   "execution_count": null,
   "id": "veterinary-force",
   "metadata": {},
   "outputs": [],
   "source": []
  }
 ],
 "metadata": {
  "kernelspec": {
   "display_name": "R",
   "language": "R",
   "name": "ir"
  },
  "language_info": {
   "codemirror_mode": "r",
   "file_extension": ".r",
   "mimetype": "text/x-r-source",
   "name": "R",
   "pygments_lexer": "r",
   "version": "3.6.1"
  }
 },
 "nbformat": 4,
 "nbformat_minor": 5
}
